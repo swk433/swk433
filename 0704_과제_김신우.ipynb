{
 "cells": [
  {
   "cell_type": "code",
   "execution_count": 15,
   "metadata": {},
   "outputs": [
    {
     "name": "stdout",
     "output_type": "stream",
     "text": [
      "2\n",
      "4\n",
      "0\n",
      "3.0\n"
     ]
    }
   ],
   "source": [
    "# 61 입력값의 평균\n",
    "\n",
    "user = []\n",
    "\n",
    "while True:\n",
    "    num = int(input())\n",
    "    \n",
    "    if num == 0:\n",
    "        break\n",
    "    \n",
    "    user.append(num)\n",
    "    \n",
    "    def average(n):\n",
    "        return sum(n)/len(n)\n",
    "    \n",
    "    average(user)\n",
    "\n",
    "print(average(user))"
   ]
  },
  {
   "cell_type": "code",
   "execution_count": 155,
   "metadata": {},
   "outputs": [
    {
     "name": "stdout",
     "output_type": "stream",
     "text": [
      "10\n",
      "50.0\n",
      "\n",
      "\n",
      "20\n",
      "68.0\n",
      "\n",
      "\n",
      "30\n",
      "86.0\n",
      "\n",
      "\n",
      "40\n",
      "104.0\n",
      "\n",
      "\n",
      "50\n",
      "122.0\n",
      "\n",
      "\n",
      "60\n",
      "140.0\n",
      "\n",
      "\n",
      "70\n",
      "158.0\n",
      "\n",
      "\n",
      "80\n",
      "176.0\n",
      "\n",
      "\n",
      "90\n",
      "194.0\n",
      "\n",
      "\n",
      "100\n",
      "212.0\n",
      "\n",
      "\n"
     ]
    }
   ],
   "source": [
    "# 63 섭씨를 화씨로\n",
    "\n",
    "for i in range(1, 11):\n",
    "    C = (10*i)\n",
    "    F = C*1.8 + 32\n",
    "    print(C)\n",
    "    print(F)\n",
    "    print('\\n')"
   ]
  },
  {
   "cell_type": "code",
   "execution_count": 143,
   "metadata": {},
   "outputs": [],
   "source": [
    "a = range(1,11)"
   ]
  },
  {
   "cell_type": "code",
   "execution_count": 145,
   "metadata": {},
   "outputs": [
    {
     "data": {
      "text/plain": [
       "[1, 2, 3, 4, 5, 6, 7, 8, 9, 10]"
      ]
     },
     "execution_count": 145,
     "metadata": {},
     "output_type": "execute_result"
    }
   ],
   "source": [
    "list(a)"
   ]
  },
  {
   "cell_type": "code",
   "execution_count": null,
   "metadata": {},
   "outputs": [],
   "source": []
  },
  {
   "cell_type": "code",
   "execution_count": null,
   "metadata": {},
   "outputs": [],
   "source": []
  },
  {
   "cell_type": "code",
   "execution_count": 88,
   "metadata": {},
   "outputs": [
    {
     "name": "stdout",
     "output_type": "stream",
     "text": [
      "A\n",
      "A+\n",
      "B\n",
      "\n"
     ]
    },
    {
     "data": {
      "text/plain": [
       "3.6666666666666665"
      ]
     },
     "execution_count": 88,
     "metadata": {},
     "output_type": "execute_result"
    }
   ],
   "source": [
    "# 66 평점구하기\n",
    "\n",
    "aplus = []\n",
    "azero = []\n",
    "aminus = []\n",
    "bplus = []\n",
    "bzero = []\n",
    "bminus = []\n",
    "cplus = []\n",
    "czero = []\n",
    "cminus = []\n",
    "dplus = []\n",
    "dzero = []\n",
    "f = []\n",
    "\n",
    "while True:\n",
    "    grade = input()\n",
    "    \n",
    "    if grade == \"\":\n",
    "        break\n",
    "        \n",
    "    if grade == 'A+':\n",
    "        aplus.append(grade)\n",
    "    if grade == 'A':\n",
    "        azero.append(grade)\n",
    "    if grade == 'A-':\n",
    "        aminus.append(grade)\n",
    "    if grade == 'B+':\n",
    "        bplus.append(grade)\n",
    "    if grade == 'B':\n",
    "        bzero.append(grade)\n",
    "    if grade == 'B-':\n",
    "        bminus.append(grade)\n",
    "    if grade == 'C+':\n",
    "        cplus.append(grade)\n",
    "    if grade == 'C':\n",
    "        czero.append(grade)\n",
    "    if grade == 'C-':\n",
    "        cminus.append(grade)\n",
    "    if grade == 'D+':\n",
    "        dplus.append(grade)\n",
    "    if grade == 'D':\n",
    "        dzero.append(grade)\n",
    "    if grade == 'F':\n",
    "        f.append(grade)\n",
    "\n",
    "(4*len(aplus) + 4*len(azero) + 3.7*len(aminus) + 3.3*len(bplus) + 3*len(bzero) + 2.7*len(bminus) + 2.3*len(cplus) + 2*len(czero) + 1.7*len(cminus) + 1.3*len(dplus) + len(dzero))/len(aplus + azero + aminus + bplus + bzero + bminus + cplus + czero + cminus + dplus + dzero)"
   ]
  },
  {
   "cell_type": "code",
   "execution_count": 41,
   "metadata": {},
   "outputs": [
    {
     "name": "stdout",
     "output_type": "stream",
     "text": [
      "당신의 나이는?\n",
      "1\n",
      "당신의 나이는?\n",
      "5\n",
      "당신의 나이는?\n",
      "55\n",
      "당신의 나이는?\n",
      "77\n",
      "당신의 나이는?\n",
      "\n",
      "[1]\n",
      "2세이하 무료\n",
      "\n",
      "[5]\n",
      "3-12세 14달러\n",
      "\n",
      "[55]\n",
      "13-64세 23달러\n",
      "\n",
      "[77]\n",
      "65세이상 18달러\n"
     ]
    }
   ],
   "source": [
    "# 67 입장료\n",
    "\n",
    "baby = []\n",
    "kids = []\n",
    "adult = []\n",
    "old = []\n",
    "\n",
    "while True:\n",
    "    age = input('당신의 나이는?\\n')\n",
    "    \n",
    "    if age == \"\":\n",
    "        break;\n",
    "        \n",
    "    age = int(age)\n",
    "    \n",
    "    if age < 3:\n",
    "        baby.append(age)\n",
    "    \n",
    "    if 2 < age < 13:\n",
    "        kids.append(age)\n",
    "        \n",
    "    if 12 < age < 65:\n",
    "        adult.append(age)\n",
    "    \n",
    "    if age > 64:\n",
    "        old.append(age)\n",
    "\n",
    "print(baby)\n",
    "print('2세이하 무료\\n')\n",
    "\n",
    "print(kids)\n",
    "print('3-12세 14달러\\n')\n",
    "\n",
    "print(adult)\n",
    "print('13-64세 23달러\\n')\n",
    "\n",
    "print(old)\n",
    "print('65세이상 18달러')"
   ]
  },
  {
   "cell_type": "code",
   "execution_count": 166,
   "metadata": {},
   "outputs": [
    {
     "name": "stdout",
     "output_type": "stream",
     "text": [
      "level\n"
     ]
    },
    {
     "ename": "TypeError",
     "evalue": "'float' object is not iterable",
     "output_type": "error",
     "traceback": [
      "\u001b[1;31m---------------------------------------------------------------------------\u001b[0m",
      "\u001b[1;31mTypeError\u001b[0m                                 Traceback (most recent call last)",
      "\u001b[1;32m<ipython-input-166-8888e9944037>\u001b[0m in \u001b[0;36m<module>\u001b[1;34m()\u001b[0m\n\u001b[0;32m      3\u001b[0m \u001b[0mword\u001b[0m \u001b[1;33m=\u001b[0m \u001b[0minput\u001b[0m\u001b[1;33m(\u001b[0m\u001b[1;33m)\u001b[0m\u001b[1;33m\u001b[0m\u001b[0m\n\u001b[0;32m      4\u001b[0m \u001b[1;33m\u001b[0m\u001b[0m\n\u001b[1;32m----> 5\u001b[1;33m \u001b[1;32mfor\u001b[0m \u001b[0mi\u001b[0m \u001b[1;32min\u001b[0m \u001b[1;33m(\u001b[0m\u001b[0mlen\u001b[0m\u001b[1;33m(\u001b[0m\u001b[0mword\u001b[0m\u001b[1;33m)\u001b[0m\u001b[1;33m-\u001b[0m\u001b[1;36m1\u001b[0m\u001b[1;33m)\u001b[0m\u001b[1;33m/\u001b[0m\u001b[1;36m2\u001b[0m\u001b[1;33m:\u001b[0m\u001b[1;33m\u001b[0m\u001b[0m\n\u001b[0m\u001b[0;32m      6\u001b[0m     \u001b[1;32mif\u001b[0m \u001b[0mword\u001b[0m\u001b[1;33m[\u001b[0m\u001b[1;33m-\u001b[0m\u001b[1;36m1\u001b[0m\u001b[1;33m+\u001b[0m\u001b[0mi\u001b[0m\u001b[1;33m]\u001b[0m \u001b[1;33m==\u001b[0m \u001b[0mword\u001b[0m\u001b[1;33m[\u001b[0m\u001b[1;33m-\u001b[0m\u001b[0mi\u001b[0m\u001b[1;33m]\u001b[0m\u001b[1;33m:\u001b[0m\u001b[1;33m\u001b[0m\u001b[0m\n\u001b[0;32m      7\u001b[0m         \u001b[0mprint\u001b[0m\u001b[1;33m(\u001b[0m\u001b[1;34m'This word is a Palindrome.'\u001b[0m\u001b[1;33m)\u001b[0m\u001b[1;33m\u001b[0m\u001b[0m\n",
      "\u001b[1;31mTypeError\u001b[0m: 'float' object is not iterable"
     ]
    }
   ],
   "source": [
    "# 72 앞뒤가 똑같은 스펠링\n",
    "\n",
    "word = input()\n",
    "\n",
    "for i in (len(word)-1)/2:\n",
    "    if word[-1+i] == word[-i]:\n",
    "        print('This word is a Palindrome.')\n",
    "    \n",
    "    else:\n",
    "        print('This word is not a Palindrome.')"
   ]
  },
  {
   "cell_type": "code",
   "execution_count": 168,
   "metadata": {},
   "outputs": [
    {
     "ename": "TypeError",
     "evalue": "object of type 'int' has no len()",
     "output_type": "error",
     "traceback": [
      "\u001b[1;31m---------------------------------------------------------------------------\u001b[0m",
      "\u001b[1;31mTypeError\u001b[0m                                 Traceback (most recent call last)",
      "\u001b[1;32m<ipython-input-168-56ede2dbaad9>\u001b[0m in \u001b[0;36m<module>\u001b[1;34m()\u001b[0m\n\u001b[1;32m----> 1\u001b[1;33m \u001b[0mlen\u001b[0m\u001b[1;33m(\u001b[0m\u001b[0mlevel\u001b[0m\u001b[1;33m)\u001b[0m\u001b[1;33m\u001b[0m\u001b[0m\n\u001b[0m",
      "\u001b[1;31mTypeError\u001b[0m: object of type 'int' has no len()"
     ]
    }
   ],
   "source": []
  },
  {
   "cell_type": "code",
   "execution_count": 156,
   "metadata": {},
   "outputs": [],
   "source": [
    "a = 'level'"
   ]
  },
  {
   "cell_type": "code",
   "execution_count": null,
   "metadata": {},
   "outputs": [],
   "source": [
    "# 74 구구단\n",
    "\n"
   ]
  },
  {
   "cell_type": "code",
   "execution_count": null,
   "metadata": {},
   "outputs": [],
   "source": [
    "# 75 최대공약수\n"
   ]
  },
  {
   "cell_type": "code",
   "execution_count": 97,
   "metadata": {},
   "outputs": [
    {
     "name": "stdout",
     "output_type": "stream",
     "text": [
      "0b01\n"
     ]
    }
   ],
   "source": [
    "# 77 이진수를 십진수로\n",
    "\n",
    "binary = input()\n",
    "2**len(binary-2)* + 2**len(binary-3)"
   ]
  },
  {
   "cell_type": "code",
   "execution_count": null,
   "metadata": {},
   "outputs": [],
   "source": [
    "# 78 십진수를 이진수로\n",
    "\n",
    "decimal = int(input())\n",
    "\n",
    "if decimal%2 == 0:\n",
    "    decimal/2\n",
    "    \n",
    "else:\n",
    "    (decimal-1)/2"
   ]
  },
  {
   "cell_type": "code",
   "execution_count": null,
   "metadata": {},
   "outputs": [],
   "source": []
  }
 ],
 "metadata": {
  "kernelspec": {
   "display_name": "Python 3",
   "language": "python",
   "name": "python3"
  },
  "language_info": {
   "codemirror_mode": {
    "name": "ipython",
    "version": 3
   },
   "file_extension": ".py",
   "mimetype": "text/x-python",
   "name": "python",
   "nbconvert_exporter": "python",
   "pygments_lexer": "ipython3",
   "version": "3.6.5"
  }
 },
 "nbformat": 4,
 "nbformat_minor": 2
}
