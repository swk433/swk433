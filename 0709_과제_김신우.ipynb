{
 "cells": [
  {
   "cell_type": "code",
   "execution_count": null,
   "metadata": {},
   "outputs": [],
   "source": [
    "# 129 주사위\n",
    "\n",
    "from random import randrange\n",
    "num = 1000\n",
    "dice = 6\n",
    "\n",
    "def play():\n",
    "    d1 = randrange(1, dice+1)\n",
    "    d2 = randrange(1, dice+1)\n",
    "    return(d1+d2)\n",
    "\n",
    "def result():\n",
    "    "
   ]
  },
  {
   "cell_type": "code",
   "execution_count": 12,
   "metadata": {},
   "outputs": [
    {
     "name": "stdout",
     "output_type": "stream",
     "text": [
      "HH\n",
      "4444\n"
     ]
    }
   ],
   "source": [
    "# 130 문자메세지\n",
    "\n",
    "keypad = {'.':1, ',':11, '?':111, '!':1111, ':':11111, 'A':2, 'B':22, 'C':222, 'D':3, 'E':33, 'F':333, 'G':4, 'H':44, 'I':444, \\\n",
    "          'J':5, 'K':55, 'L':555, 'M':6, 'N':66, 'O':666, 'P':7, 'Q':77, 'R':777, 'S':7777, 'T':8, 'U':88, 'V':888, 'W':9, 'X':99, 'Y':999, 'Z':9999, ' ':0}\n",
    "word = input()\n",
    "output = ''\n",
    "for w in word:\n",
    "    output = output + str(keypad[w])\n",
    "print(output)"
   ]
  },
  {
   "cell_type": "code",
   "execution_count": null,
   "metadata": {},
   "outputs": [],
   "source": []
  }
 ],
 "metadata": {
  "kernelspec": {
   "display_name": "Python 3",
   "language": "python",
   "name": "python3"
  },
  "language_info": {
   "codemirror_mode": {
    "name": "ipython",
    "version": 3
   },
   "file_extension": ".py",
   "mimetype": "text/x-python",
   "name": "python",
   "nbconvert_exporter": "python",
   "pygments_lexer": "ipython3",
   "version": "3.6.5"
  }
 },
 "nbformat": 4,
 "nbformat_minor": 2
}
