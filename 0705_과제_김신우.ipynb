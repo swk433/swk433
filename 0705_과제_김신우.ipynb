{
 "cells": [
  {
   "cell_type": "code",
   "execution_count": 49,
   "metadata": {},
   "outputs": [
    {
     "name": "stdout",
     "output_type": "stream",
     "text": [
      "여행한 거리는? 10\n",
      "요금은 6.5달러입니다\n"
     ]
    }
   ],
   "source": [
    "# 82 택시요금\n",
    "def taxi():\n",
    "    dist = int(input('여행한 거리는? '))\n",
    "    fare = dist*0.25+4\n",
    "    return \"요금은 \"+str(fare)+\"달러입니다\"\n",
    "print(taxi())"
   ]
  },
  {
   "cell_type": "code",
   "execution_count": 69,
   "metadata": {},
   "outputs": [
    {
     "name": "stdout",
     "output_type": "stream",
     "text": [
      "2\n",
      "76\n",
      "4\n",
      "4\n"
     ]
    }
   ],
   "source": [
    "# 84 중간값\n",
    "\n",
    "def median():\n",
    "    med = []\n",
    "    a = int(input())\n",
    "    b = int(input())\n",
    "    c = int(input())\n",
    "    med.append(a)\n",
    "    med.append(b)\n",
    "    med.append(c)\n",
    "    med.sort()\n",
    "    med[1]\n",
    "    return med[1]\n",
    "\n",
    "print(median())"
   ]
  },
  {
   "cell_type": "code",
   "execution_count": 73,
   "metadata": {},
   "outputs": [
    {
     "name": "stdout",
     "output_type": "stream",
     "text": [
      "14\n",
      "()\n"
     ]
    }
   ],
   "source": [
    "# 85 서수\n",
    "\n",
    "\n",
    "def ordinal():\n",
    "    ordi = int(input())\n",
    "\n",
    "    if ordi is 1:\n",
    "        return 'first'\n",
    "    if ordi is 2:\n",
    "        return 'second'\n",
    "    if ordi is 3:\n",
    "        return 'third'\n",
    "    if ordi is 4:\n",
    "        return 'foutrh'\n",
    "    if ordi is 5:\n",
    "        return 'fifth'\n",
    "    if ordi is 6:\n",
    "        return 'sixth'\n",
    "    if ordi is 7:\n",
    "        return 'seventh'\n",
    "    if ordi is 8:\n",
    "        return 'eighth'\n",
    "    if ordi is 9:\n",
    "        return 'ninth'\n",
    "    if ordi is 10:\n",
    "        return 'tenth'\n",
    "    if ordi is 11:\n",
    "        return 'eleventh'\n",
    "    if ordi is 12:\n",
    "        return 'twelfth'\n",
    "    if ordi > 12:\n",
    "        return '()'\n",
    "\n",
    "print(ordinal())"
   ]
  },
  {
   "cell_type": "code",
   "execution_count": 74,
   "metadata": {},
   "outputs": [
    {
     "name": "stdout",
     "output_type": "stream",
     "text": [
      "3\n",
      "3\n",
      "3\n",
      "삼각형을 만들 수 있습니다.\n"
     ]
    }
   ],
   "source": [
    "# 88 삼각형\n",
    "\n",
    "\n",
    "def triangle():\n",
    "    tri = []\n",
    "    a = int(input())\n",
    "    b = int(input())\n",
    "    c = int(input())\n",
    "    tri.append(a)\n",
    "    tri.append(b)\n",
    "    tri.append(c)\n",
    "    tri.sort()\n",
    "    tri\n",
    "\n",
    "    if tri[0]+tri[1] <= tri[2]:\n",
    "        return '삼각형을 만들 수 없습니다.'\n",
    "    else:\n",
    "        return '삼각형을 만들 수 있습니다.'\n",
    "\n",
    "print(triangle())"
   ]
  },
  {
   "cell_type": "code",
   "execution_count": 142,
   "metadata": {},
   "outputs": [
    {
     "name": "stdout",
     "output_type": "stream",
     "text": [
      "4\n",
      "소수가 아닙니다.\n"
     ]
    }
   ],
   "source": [
    "# 92 소수\n",
    "\n",
    "\n",
    "def primenum():\n",
    "    prime = int(input())\n",
    "    a = []\n",
    "\n",
    "    for i in range(2,prime):\n",
    "        if prime%i == 0:\n",
    "            a.append(i)\n",
    "    if a == []:\n",
    "        return '소수입니다.'\n",
    "    else:\n",
    "        return '소수가 아닙니다.'\n",
    "    \n",
    "print(primenum())"
   ]
  },
  {
   "cell_type": "code",
   "execution_count": null,
   "metadata": {},
   "outputs": [],
   "source": []
  }
 ],
 "metadata": {
  "kernelspec": {
   "display_name": "Python 3",
   "language": "python",
   "name": "python3"
  },
  "language_info": {
   "codemirror_mode": {
    "name": "ipython",
    "version": 3
   },
   "file_extension": ".py",
   "mimetype": "text/x-python",
   "name": "python",
   "nbconvert_exporter": "python",
   "pygments_lexer": "ipython3",
   "version": "3.6.5"
  }
 },
 "nbformat": 4,
 "nbformat_minor": 2
}
