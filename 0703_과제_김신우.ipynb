{
 "cells": [
  {
   "cell_type": "code",
   "execution_count": null,
   "metadata": {},
   "outputs": [],
   "source": [
    "# 105\n",
    "\n",
    "b = []\n",
    "\n",
    "while True:\n",
    "    a = input()\n",
    "    a = int(a)\n",
    "    \n",
    "    if a == 0:\n",
    "        break;\n",
    "        \n",
    "    b.append(a)\n",
    "    \n",
    "print(b[::-1])"
   ]
  },
  {
   "cell_type": "code",
   "execution_count": null,
   "metadata": {},
   "outputs": [],
   "source": [
    "num_list = []\n",
    "\n",
    "while True:\n",
    "    num = int(input())\n",
    "    \n",
    "    if num is 0:\n",
    "        break\n",
    "    else:\n",
    "        num_list.append(num)\n",
    "        \n",
    "print(num_list[::-1])"
   ]
  },
  {
   "cell_type": "code",
   "execution_count": null,
   "metadata": {},
   "outputs": [],
   "source": [
    "# 107\n",
    "\n",
    "while True:\n",
    "    a = input()    \n",
    "    if a == '':\n",
    "        break;\n",
    "    if a == "
   ]
  },
  {
   "cell_type": "code",
   "execution_count": 10,
   "metadata": {},
   "outputs": [
    {
     "name": "stdout",
     "output_type": "stream",
     "text": [
      "a\n",
      "b\n",
      "c\n",
      "a\n",
      "\n",
      "['a', 'b', 'c', '']\n"
     ]
    }
   ],
   "source": [
    "word_list = []\n",
    "\n",
    "while True:\n",
    "    word = input()\n",
    "    \n",
    "    try:\n",
    "        word_list.index(word)\n",
    "    except:\n",
    "        word_list.append(word)\n",
    "    else:\n",
    "        word = input()\n",
    "        \n",
    "    if word is \"\":\n",
    "        break\n",
    "\n",
    "print(word_list)"
   ]
  },
  {
   "cell_type": "code",
   "execution_count": 5,
   "metadata": {},
   "outputs": [
    {
     "ename": "SyntaxError",
     "evalue": "invalid syntax (<ipython-input-5-de022e4af492>, line 14)",
     "output_type": "error",
     "traceback": [
      "\u001b[1;36m  File \u001b[1;32m\"<ipython-input-5-de022e4af492>\"\u001b[1;36m, line \u001b[1;32m14\u001b[0m\n\u001b[1;33m    if is_exist = False:\u001b[0m\n\u001b[1;37m                ^\u001b[0m\n\u001b[1;31mSyntaxError\u001b[0m\u001b[1;31m:\u001b[0m invalid syntax\n"
     ]
    }
   ],
   "source": [
    "word_list = []\n",
    "\n",
    "while True:\n",
    "    word = input()\n",
    "    \n",
    "    if word is \"\":\n",
    "        break\n",
    "    \n",
    "    for i in word_list:\n",
    "        is_exist = False\n",
    "        if word is i:\n",
    "            is_exist = True\n",
    "            break\n",
    "    if is_exist = False:\n",
    "        word_index.append(word)"
   ]
  },
  {
   "cell_type": "code",
   "execution_count": 22,
   "metadata": {},
   "outputs": [
    {
     "name": "stdout",
     "output_type": "stream",
     "text": [
      "1\n",
      "0\n",
      "-2\n",
      "\n",
      "[-2, 0, 1]\n"
     ]
    }
   ],
   "source": [
    "# 108\n",
    "\n",
    "b = []\n",
    "c = []\n",
    "d = []\n",
    "\n",
    "while True:\n",
    "    a = input()\n",
    "    \n",
    "    if a == '':\n",
    "        break;   \n",
    "        \n",
    "    a = int(a)\n",
    "    if a > 0:\n",
    "        b.append(a)\n",
    "    if a == 0:\n",
    "        c.append(a)\n",
    "    if a < 0:\n",
    "        d.append(a)\n",
    "        \n",
    "print(d+c+b)"
   ]
  },
  {
   "cell_type": "code",
   "execution_count": 16,
   "metadata": {},
   "outputs": [
    {
     "name": "stdout",
     "output_type": "stream",
     "text": [
      "3\n",
      "5\n",
      "\n"
     ]
    }
   ],
   "source": [
    "num_list = []\n",
    "\n",
    "while True:\n",
    "    num = input()\n",
    "    \n",
    "    if num is \"\":\n",
    "        break\n",
    "    \n",
    "    try:\n",
    "        num = int(num)\n",
    "    except:\n",
    "        continue\n",
    "\n",
    "    else:\n",
    "        num_list.append(num)\n",
    "        \n",
    "print(num_list)"
   ]
  },
  {
   "cell_type": "code",
   "execution_count": 42,
   "metadata": {},
   "outputs": [
    {
     "name": "stdout",
     "output_type": "stream",
     "text": [
      "6\n",
      "28\n",
      "496\n",
      "8128\n"
     ]
    }
   ],
   "source": [
    "# 110\n",
    "\n",
    "def common(num):\n",
    "    common_list = []\n",
    "    \n",
    "    for i in range(1, int(num/2)+1):\n",
    "        if num % i == 0:\n",
    "            common_list.append(i)\n",
    "            \n",
    "    return common_list\n",
    "\n",
    "for i in range(1, 10001):\n",
    "    common_i = common(i)\n",
    "    \n",
    "    sum_common = 0\n",
    "    \n",
    "    for j in common_i:\n",
    "        sum_common += j\n",
    "    \n",
    "    if sum_common == i:\n",
    "        print(i)"
   ]
  },
  {
   "cell_type": "code",
   "execution_count": 39,
   "metadata": {},
   "outputs": [],
   "source": []
  },
  {
   "cell_type": "code",
   "execution_count": 43,
   "metadata": {},
   "outputs": [
    {
     "name": "stdout",
     "output_type": "stream",
     "text": [
      "a\n",
      "\n",
      "['a', '', 'and', '']\n"
     ]
    }
   ],
   "source": [
    "# 113\n",
    "\n",
    "b = []\n",
    "c = ['and']\n",
    "d = []\n",
    "while True:\n",
    "    a = input()\n",
    "    b.append(a)\n",
    "    if a == '':\n",
    "        break;\n",
    "d.append(a)\n",
    "print(b+c+d)"
   ]
  },
  {
   "cell_type": "code",
   "execution_count": 72,
   "metadata": {},
   "outputs": [
    {
     "name": "stdout",
     "output_type": "stream",
     "text": [
      "[7, 21, 26, 29, 31, 41]\n"
     ]
    }
   ],
   "source": [
    "# 로또\n",
    "\n",
    "import random\n",
    "rand = random.Random()\n",
    "rand.randint(1, 49)\n",
    "lotto_list = []\n",
    "\n",
    "ball_num = 0\n",
    "\n",
    "while ball_num < 6:\n",
    "    new_ball = rand.randint(1, 49)\n",
    "    \n",
    "    try:\n",
    "        lotto_list.index(new_ball)\n",
    "    except:\n",
    "        lotto_list.append(new_ball)\n",
    "        ball_num += 1\n",
    "#     finally:\n",
    "        lotto_list.sort()\n",
    "print(lotto_list)"
   ]
  },
  {
   "cell_type": "code",
   "execution_count": null,
   "metadata": {},
   "outputs": [],
   "source": []
  }
 ],
 "metadata": {
  "kernelspec": {
   "display_name": "Python 3",
   "language": "python",
   "name": "python3"
  },
  "language_info": {
   "codemirror_mode": {
    "name": "ipython",
    "version": 3
   },
   "file_extension": ".py",
   "mimetype": "text/x-python",
   "name": "python",
   "nbconvert_exporter": "python",
   "pygments_lexer": "ipython3",
   "version": "3.6.5"
  }
 },
 "nbformat": 4,
 "nbformat_minor": 2
}
